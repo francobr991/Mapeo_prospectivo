{
 "cells": [
  {
   "cell_type": "code",
   "execution_count": null,
   "id": "53399a5c",
   "metadata": {},
   "outputs": [],
   "source": [
    "from tensorflow.keras.models import Sequential\n",
    "from tensorflow.keras.layers import Dense\n",
    "\n",
    "from hydra import mean_embeddings,get_model,well_plotly\n",
    "import pickle"
   ]
  },
  {
   "cell_type": "code",
   "execution_count": null,
   "id": "8978c3b2",
   "metadata": {
    "scrolled": false
   },
   "outputs": [],
   "source": [
    "# Función con la que se crean las graficas 3D mostradas en el documento \n",
    "well_plotly(datos_margento.replace({'organic matter':\"Materia orgánica\",\n",
    "                            'loamy sand':\"Arena arcillosa\",\n",
    "                            'sandy clay':\"Arcilla arenosa\",\n",
    "                            'conglomerate':\"Conglomerado\",\n",
    "                            'sand':\"Arena\",\n",
    "                            'clay':\"Arcilla\",\n",
    "                            'silt':\"Limo\"}),\n",
    "    x=\"x\",y=\"y\",z=\"z\",clase=\"clase\",z_scale=-1,titulo=\"Perforaciones de la zona de estudio\",save_html=False,text=\"nombre_pozo\")"
   ]
  },
  {
   "cell_type": "code",
   "execution_count": null,
   "id": "95d92352",
   "metadata": {},
   "outputs": [],
   "source": [
    "#Embedding preentrenado con textos de geociencias  \n",
    "with open(\"archivos_base\\Glove_300.pkl\",\"rb\") as data:\n",
    "    modelEmb=pickle.load(data)"
   ]
  },
  {
   "cell_type": "code",
   "execution_count": null,
   "id": "cfa5a838",
   "metadata": {},
   "outputs": [],
   "source": [
    "# Transforma las descripciones en vectores y obtiene el vector promedio de la descripción \n",
    "datos_margento=mean_embeddings(datos_margento,modelEmb)"
   ]
  },
  {
   "cell_type": "code",
   "execution_count": null,
   "id": "43a55de0",
   "metadata": {},
   "outputs": [],
   "source": [
    "# Red utilizada para transformar vectores en clases/etiquetas   \n",
    "model = Sequential()\n",
    "model.add(Dense(100, input_dim=300, activation='relu'))\n",
    "model.add(Dense(100, activation='relu'))\n",
    "model.add(Dense(100, activation='relu'))\n",
    "model.add(Dense(units=len(datos_margento.clase.unique()), activation='softmax'))\n",
    "model.compile(loss='categorical_crossentropy',\n",
    "              optimizer='adam',\n",
    "              metrics=['accuracy'])\n",
    "model.summary()"
   ]
  },
  {
   "cell_type": "code",
   "execution_count": null,
   "id": "ffe12161",
   "metadata": {},
   "outputs": [],
   "source": [
    "# Clase creada para facilitar el proceso de interpolación 3D, en este se especifica la distancia espacial entre \n",
    "# puntos y el número de franjas verticales\n",
    "modelo_3D=get_model(datos_margento[datos_margento[\"z\"]<16],\n",
    "                    'DEM_Recorte1.tif',\n",
    "                    intervalo_xy=50,\n",
    "                    franjas_z=16,\n",
    "                    x=\"x\",\n",
    "                    y=\"y\",\n",
    "                    z=\"z\",\n",
    "                    test_size=0.1)\n"
   ]
  },
  {
   "cell_type": "code",
   "execution_count": null,
   "id": "94cf2574",
   "metadata": {},
   "outputs": [],
   "source": [
    "# Función para interpolación lineal, es aplicable tanto para los datos de OneHotEncode \n",
    "# como para el ventor promedio resultante del embedding \n",
    "modelo_3D.interpolacion_lineal_basica(objetivo=\"mean\",obj_type=\"vector\")"
   ]
  },
  {
   "cell_type": "code",
   "execution_count": null,
   "id": "76f4c57f",
   "metadata": {},
   "outputs": [],
   "source": [
    "# se traducen los vectores interpolados con la red neuronal entrenada para obtener \n",
    "# la clase a la cual pertenece cada punto en el espacio   \n",
    "res_inter=modelo_3D.res_lineal_basica.copy()\n",
    "res_inter[\"clase_decode\"]=encode.inverse_transform(model.predict(np.vstack(res_inter['clase'].values)))\n"
   ]
  }
 ],
 "metadata": {
  "interpreter": {
   "hash": "fe287652dc7712a7671ec229ee9c548b969d03754bd579f8a7fc20061e2d7c34"
  },
  "kernelspec": {
   "display_name": "Python 3.8.11 ('modelado_3d')",
   "language": "python",
   "name": "python3"
  },
  "language_info": {
   "codemirror_mode": {
    "name": "ipython",
    "version": 3
   },
   "file_extension": ".py",
   "mimetype": "text/x-python",
   "name": "python",
   "nbconvert_exporter": "python",
   "pygments_lexer": "ipython3",
   "version": "3.8.11 (default, Aug  6 2021, 09:57:55) [MSC v.1916 64 bit (AMD64)]"
  }
 },
 "nbformat": 4,
 "nbformat_minor": 5
}
